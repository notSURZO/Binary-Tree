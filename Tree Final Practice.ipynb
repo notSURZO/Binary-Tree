{
 "cells": [
  {
   "cell_type": "code",
   "execution_count": 722,
   "metadata": {},
   "outputs": [],
   "source": [
    "class BTNode:\n",
    "  def __init__(self, elem):\n",
    "    self.elem = elem\n",
    "    self.right = None\n",
    "    self.left = None\n",
    "def inorder(root):\n",
    "  if root == None:\n",
    "    return\n",
    "\n",
    "  inorder(root.left)\n",
    "  print(root.elem, end = ' ')\n",
    "  inorder(root.right)\n",
    "def tree_construction(arr, i = 1):\n",
    "  if i>=len(arr) or arr[i] == None:\n",
    "    return None\n",
    "\n",
    "  p = BTNode(arr[i])\n",
    "  p.left = tree_construction(arr, 2*i)\n",
    "  p.right = tree_construction(arr, 2*i+1)\n",
    "  return p\n",
    "\n",
    "\n"
   ]
  },
  {
   "cell_type": "code",
   "execution_count": null,
   "metadata": {},
   "outputs": [],
   "source": []
  },
  {
   "cell_type": "code",
   "execution_count": 723,
   "metadata": {},
   "outputs": [
    {
     "name": "stdout",
     "output_type": "stream",
     "text": [
      "4 8 10 12 14 20 21 22 23 \n",
      "4 5 8 10 12 14 20 21 22 23 "
     ]
    }
   ],
   "source": [
    "def insert(root,val): #inserting in a BST\n",
    "  if root == None : \n",
    "    root=BTNode(val)\n",
    "  if root.elem == val:\n",
    "    return \n",
    "  if val < root.elem :\n",
    "    if root.left != None:\n",
    "      insert(root.left,val)\n",
    "    else:\n",
    "      root.left = BTNode(val)\n",
    "  else:\n",
    "    if root.right == None :\n",
    "      root.right = BTNode(val)\n",
    "    else:\n",
    "      insert(root.right,val)\n",
    "root = BTNode(20)\n",
    "n1 = BTNode(8)\n",
    "n2 = BTNode(22)\n",
    "n3 = BTNode(4)\n",
    "n4 = BTNode(12)\n",
    "n5 = BTNode(10)\n",
    "n6 = BTNode(14)\n",
    "n7 = BTNode(21)\n",
    "n8 = BTNode(23)\n",
    "root.left = n1\n",
    "root.right = n2\n",
    "\n",
    "n1.left = n3\n",
    "n1.right = n4\n",
    "\n",
    "n4.left = n5\n",
    "n4.right = n6\n",
    "n2.left = n7\n",
    "n2.right = n8\n",
    "inorder(root)\n",
    "insert(root,5)\n",
    "print()\n",
    "inorder(root)"
   ]
  },
  {
   "cell_type": "code",
   "execution_count": 724,
   "metadata": {},
   "outputs": [
    {
     "name": "stdout",
     "output_type": "stream",
     "text": [
      "<__main__.BTNode object at 0x0000012E5D5425B0>\n",
      "<__main__.BTNode object at 0x0000012E5D5425B0>\n"
     ]
    }
   ],
   "source": [
    "def minval(root): #recursive approach\n",
    "  if root.left == None :\n",
    "    return root\n",
    "  return minval(root.left)\n",
    "print(minval(root))\n",
    "def minval(root): #iterative\n",
    "  while root.left != None:\n",
    "    root = root.left\n",
    "  return root\n",
    "print(minval(root))"
   ]
  },
  {
   "cell_type": "code",
   "execution_count": 725,
   "metadata": {},
   "outputs": [
    {
     "name": "stdout",
     "output_type": "stream",
     "text": [
      "23\n",
      "23\n"
     ]
    }
   ],
   "source": [
    "def maxval(root): #recursive approach\n",
    "  if root.right == None :\n",
    "    return root.elem\n",
    "  return maxval(root.right)\n",
    "print(maxval(root))\n",
    "def maxval(root): #iterative\n",
    "  while root.right != None:\n",
    "    root = root.right\n",
    "  return root.elem\n",
    "print(maxval(root))"
   ]
  },
  {
   "cell_type": "code",
   "execution_count": 726,
   "metadata": {},
   "outputs": [
    {
     "data": {
      "text/plain": [
       "'Found'"
      ]
     },
     "execution_count": 726,
     "metadata": {},
     "output_type": "execute_result"
    }
   ],
   "source": [
    "def find(root,val):\n",
    "  if root == None:\n",
    "    return 'Not Found'\n",
    "  if root.elem == val :\n",
    "    return 'Found'\n",
    "  if val< root.elem:\n",
    "    return find(root.left,val)\n",
    "  if val> root.elem:\n",
    "    return find(root.right,val)\n",
    "find(root,21)\n"
   ]
  },
  {
   "cell_type": "code",
   "execution_count": 727,
   "metadata": {},
   "outputs": [
    {
     "name": "stdout",
     "output_type": "stream",
     "text": [
      "4 5 8 10 12 14 20 21 22 23 \n",
      "4 5 10 12 14 20 21 22 23 "
     ]
    }
   ],
   "source": [
    "\n",
    "def remove(root,val):\n",
    "  if root == None:\n",
    "    return\n",
    "  if root.elem == val :\n",
    "\n",
    "    if root.left == None and root.right == None:\n",
    "      return None\n",
    "    if  root.right == None:\n",
    "      temp = root.left\n",
    "      root = None\n",
    "      return temp\n",
    "    if root.left == None :\n",
    "      temp = root.right\n",
    "      root = None\n",
    "      return temp\n",
    "    else:\n",
    "      successor = minval(root.right)\n",
    "      \n",
    "      root.elem = successor.elem\n",
    "      root.right=remove(root.right,successor.elem)\n",
    "    \n",
    "\n",
    "  if val< root.elem :\n",
    "    root.left = remove(root.left,val)\n",
    "    \n",
    "  if val > root.elem:\n",
    "    root.right = remove(root.right,val)\n",
    "  return root\n",
    "inorder(root)\n",
    "remove(root,8)\n",
    "print()\n",
    "inorder(root)\n",
    "\n",
    "\n",
    "\n",
    "\n",
    "\n",
    "\n",
    "\n",
    "\n",
    "\n"
   ]
  },
  {
   "cell_type": "code",
   "execution_count": null,
   "metadata": {},
   "outputs": [],
   "source": []
  },
  {
   "cell_type": "code",
   "execution_count": 728,
   "metadata": {},
   "outputs": [
    {
     "name": "stdout",
     "output_type": "stream",
     "text": [
      "12\n"
     ]
    }
   ],
   "source": [
    "#closest node to integar k :\n",
    "\n",
    "def maxvaldic(dic):\n",
    "  values = dic.values()\n",
    "  for k,v in dic.items():\n",
    "    if v == min(values):\n",
    "      return k\n",
    "\n",
    "\n",
    "def closest(root,k,dic={}):\n",
    "  if root == None:\n",
    "    return None\n",
    "  dic[root] = abs(k-root.elem)\n",
    "  closest(root.left,k,dic)\n",
    "  closest(root.right,k,dic)\n",
    "  return maxvaldic(dic)\n",
    "print(closest(root,13).elem)\n",
    "    "
   ]
  },
  {
   "cell_type": "code",
   "execution_count": 729,
   "metadata": {},
   "outputs": [
    {
     "name": "stdout",
     "output_type": "stream",
     "text": [
      "5\n"
     ]
    }
   ],
   "source": [
    "def closest(root,k,clos = None):\n",
    "    if root == None :\n",
    "      return clos\n",
    "    if clos == None:\n",
    "       clos = root\n",
    "    if abs(root.elem-k) < abs(clos.elem-k):\n",
    "      clos =  root\n",
    "    \n",
    "    if k < root.elem :\n",
    "      return closest(root.left,k,clos )\n",
    "    else:\n",
    "       return closest(root.right,k,clos)\n",
    "print(closest(root,7).elem)"
   ]
  },
  {
   "cell_type": "code",
   "execution_count": 730,
   "metadata": {},
   "outputs": [
    {
     "data": {
      "text/plain": [
       "2"
      ]
     },
     "execution_count": 730,
     "metadata": {},
     "output_type": "execute_result"
    }
   ],
   "source": [
    "def height(root):\n",
    "    if root == None: \n",
    "      return -1\n",
    "    leftHeight = height(root.left)\n",
    "    rightHeight = height(root.right)\n",
    "    m = max(leftHeight,rightHeight)\n",
    "    return m+1\n",
    "roott = BTNode(1)\n",
    "roott.left = BTNode(2)\n",
    "roott.right = BTNode(2)\n",
    "roott.left.left = BTNode(3)\n",
    "roott.right.right = BTNode(3)\n",
    "\n",
    "#roott.right.left.right = BTNode(6)\n",
    "\n",
    "\n",
    "height(roott)"
   ]
  },
  {
   "cell_type": "code",
   "execution_count": 731,
   "metadata": {},
   "outputs": [
    {
     "name": "stdout",
     "output_type": "stream",
     "text": [
      "[None, 20, 10, 22, 4, 12, 21, 23, None, 5, None, 14, None, None, None, None]\n"
     ]
    }
   ],
   "source": [
    "n = 2**(height(root)+1)\n",
    "arr = [None]*n\n",
    "def array_construction(root,i=1):\n",
    "    if root == None :\n",
    "        return None\n",
    "    arr[i] = root.elem\n",
    "    array_construction(root.left,2*i)\n",
    "    array_construction(root.right,2*i+1)\n",
    "    \n",
    "array_construction(root)\n",
    "print(arr)"
   ]
  },
  {
   "cell_type": "code",
   "execution_count": 732,
   "metadata": {},
   "outputs": [
    {
     "data": {
      "text/plain": [
       "2"
      ]
     },
     "execution_count": 732,
     "metadata": {},
     "output_type": "execute_result"
    }
   ],
   "source": [
    "def level(root, root_level , elem):\n",
    "  if root ==None:\n",
    "    return 0 \n",
    "  if root.elem == elem:\n",
    "    return root_level\n",
    "  left_level = level(root.left,root_level+1,elem)\n",
    "  right_level = level(root.right,root_level+1,elem)\n",
    "  return max(left_level,right_level)\n",
    "level(root,0,12)"
   ]
  },
  {
   "cell_type": "code",
   "execution_count": 733,
   "metadata": {},
   "outputs": [
    {
     "data": {
      "text/plain": [
       "True"
      ]
     },
     "execution_count": 733,
     "metadata": {},
     "output_type": "execute_result"
    }
   ],
   "source": [
    "def is_symmetric(root1,root2):\n",
    "  if root1== None and root2 == None:\n",
    "    return  True\n",
    "  if (root1== None and root2!= None) or (root2 == None and root1!= None):\n",
    "    return False\n",
    "  \n",
    "  if root1.elem != root2.elem :\n",
    "    return False \n",
    "  return is_symmetric(root1.left,root2.right) and is_symmetric(root1.right,root2.left)\n",
    "\n",
    "roott = BTNode(1)\n",
    "roott.left = BTNode(2)\n",
    "roott.right = BTNode(2)\n",
    "roott.left.left = BTNode(3)\n",
    "roott.right.right = BTNode(3)\n",
    "roott.left.right = BTNode(4)\n",
    "roott.right.left = BTNode(4)\n",
    "#roott.right.left.right = BTNode(6)\n",
    "is_symmetric(roott,roott)\n"
   ]
  },
  {
   "cell_type": "code",
   "execution_count": 734,
   "metadata": {},
   "outputs": [
    {
     "data": {
      "text/plain": [
       "True"
      ]
     },
     "execution_count": 734,
     "metadata": {},
     "output_type": "execute_result"
    }
   ],
   "source": [
    "def isIdentical(root1,root2):\n",
    "  \n",
    "  if (root1== None and root2!= None) or (root2 == None and root1!= None):\n",
    "    return False\n",
    "  if root1== None and root2 == None:\n",
    "    return  True\n",
    "  if root1.elem != root2.elem :\n",
    "    return False \n",
    "  if root1.elem == root2.elem:\n",
    "    return isIdentical(root1.left,root2.left) and isIdentical(root1.right,root2.right)\n",
    "isIdentical(roott,roott)"
   ]
  },
  {
   "cell_type": "code",
   "execution_count": 735,
   "metadata": {},
   "outputs": [
    {
     "name": "stdout",
     "output_type": "stream",
     "text": [
      "40-->50-->70-->90-->95-->99-->\n",
      "70-->40-->50-->95-->90-->99-->"
     ]
    }
   ],
   "source": [
    "def in_order(root,arr):\n",
    "  if root == None:\n",
    "    return \n",
    "  in_order(root.left,arr)\n",
    "  arr.append(root.elem)\n",
    "  in_order(root.right,arr)\n",
    "  \n",
    "def balanceBST(arr,start,end):\n",
    "  if start > end :\n",
    "    return\n",
    "  root = BTNode(arr[(start+end)//2])\n",
    "\n",
    "  root.left = balanceBST(arr,start,((start+end)//2)-1)\n",
    "  root.right = balanceBST(arr,((start+end)//2)+1,end)\n",
    "  return root\n",
    "def pre_order(n):\n",
    "  if n == None:\n",
    "    return \n",
    "  print(n.elem,end='-->')\n",
    "  pre_order(n.left)\n",
    "  pre_order(n.right)\n",
    "broot = BTNode(40)\n",
    "broot.right = BTNode(50)\n",
    "broot.right.right = BTNode(70)\n",
    "broot.right.right.right = BTNode(90)\n",
    "broot.right.right.right.right = BTNode(95)\n",
    "broot.right.right.right.right.right = BTNode(99)\n",
    "pre_order(broot)\n",
    "arr = []\n",
    "in_order(broot,arr)\n",
    "r = balanceBST(arr,0,len(arr)-1)\n",
    "print()\n",
    "pre_order(r)\n",
    "  "
   ]
  },
  {
   "cell_type": "code",
   "execution_count": 736,
   "metadata": {},
   "outputs": [
    {
     "name": "stdout",
     "output_type": "stream",
     "text": [
      "99\n",
      "95\n",
      "90\n",
      "70\n",
      "50\n",
      "40\n"
     ]
    }
   ],
   "source": [
    "def descending(root):\n",
    "  if root == None :\n",
    "    return None\n",
    "  descending(root.right)\n",
    "  print(root.elem)\n",
    "  descending(root.left)\n",
    "descending(r)"
   ]
  },
  {
   "cell_type": "code",
   "execution_count": 737,
   "metadata": {},
   "outputs": [
    {
     "name": "stdout",
     "output_type": "stream",
     "text": [
      "Inorder Successor:21\n",
      "Inorder predecessor: 14\n"
     ]
    }
   ],
   "source": [
    "def inorder_s_p(root):\n",
    "  if root == None :\n",
    "    return \n",
    "  temp = root.right\n",
    "  while temp.left!= None:\n",
    "    temp = temp.left\n",
    "  temp2 = root.left\n",
    "  while temp2.right != None:\n",
    "    temp2 = temp2.right\n",
    "  print(f'''Inorder Successor:{temp.elem}\n",
    "Inorder predecessor: {temp2.elem}''')\n",
    "inorder_s_p(root)\n",
    "  \n",
    "  \n"
   ]
  },
  {
   "cell_type": "code",
   "execution_count": 738,
   "metadata": {},
   "outputs": [
    {
     "data": {
      "text/plain": [
       "False"
      ]
     },
     "execution_count": 738,
     "metadata": {},
     "output_type": "execute_result"
    }
   ],
   "source": [
    "def is_full(root):\n",
    "  if root == None:\n",
    "    return True\n",
    "  if root.left == None and root.right != None or root.left != None and root.right == None:\n",
    "    return False\n",
    "  return is_full(root.left) and is_full(root.right)\n",
    "root = BTNode(20)\n",
    "root.left = BTNode(19)\n",
    "root.right = BTNode(21)\n",
    "root.left.left = BTNode(8)\n",
    "is_full(root)"
   ]
  },
  {
   "cell_type": "code",
   "execution_count": 739,
   "metadata": {},
   "outputs": [
    {
     "data": {
      "text/plain": [
       "False"
      ]
     },
     "execution_count": 739,
     "metadata": {},
     "output_type": "execute_result"
    }
   ],
   "source": [
    "def is_complete(root):\n",
    "  if root == None :\n",
    "    return True\n",
    "  if  root.left == None and root.right != None :\n",
    "    return False\n",
    "  \n",
    "  return is_complete(root.left) and is_complete(root.right)\n",
    "\n",
    "\n",
    "\n",
    "root = BTNode(10)\n",
    "n1 = BTNode(20)\n",
    "n2 = BTNode(30)\n",
    "n3 = BTNode(40)\n",
    "n4 = BTNode(60)\n",
    "n5 = BTNode(70)\n",
    "\n",
    "root.left = n1\n",
    "root.right = n2\n",
    "\n",
    "n1.left = n3\n",
    "n1.right = n4\n",
    "n4.right = n5\n",
    "\n",
    "is_complete(root)"
   ]
  },
  {
   "cell_type": "code",
   "execution_count": 740,
   "metadata": {},
   "outputs": [
    {
     "data": {
      "text/plain": [
       "136"
      ]
     },
     "execution_count": 740,
     "metadata": {},
     "output_type": "execute_result"
    }
   ],
   "source": [
    "#addition of even\n",
    "def add_even(root,sum=0):\n",
    "  if root == None :\n",
    "    return 0\n",
    "  if root.elem%2 == 0:\n",
    "    return root.elem + add_even(root.left) + add_even(root.right)\n",
    "  else:\n",
    "    return add_even(root.left) + add_even(root.right)\n",
    "\n",
    "root = BTNode(11)\n",
    "n1 = BTNode(22)\n",
    "n2 = BTNode(33)\n",
    "n3 = BTNode(44)\n",
    "n4 = BTNode(61)\n",
    "n5 = BTNode(70)\n",
    "\n",
    "root.left = n1\n",
    "root.right = n2\n",
    "\n",
    "n1.left = n3\n",
    "n1.right = n4\n",
    "n4.right = n5\n",
    "\n",
    "add_even(root)\n"
   ]
  },
  {
   "cell_type": "code",
   "execution_count": 741,
   "metadata": {},
   "outputs": [
    {
     "name": "stdout",
     "output_type": "stream",
     "text": [
      "4\n"
     ]
    }
   ],
   "source": [
    "def get_level(root,val,l = 0):\n",
    "  if root == None:\n",
    "    return\n",
    "  if root.elem == val :\n",
    "    return l \n",
    "  left = get_level(root.left,val,l+1)\n",
    "  \n",
    "  if left!= None :\n",
    "    return left \n",
    "  else:\n",
    "    return get_level(root.right,val,l+1)\n",
    "root = BTNode(10)\n",
    "n1 = BTNode(20)\n",
    "n2 = BTNode(30)\n",
    "n3 = BTNode(40)\n",
    "n4 = BTNode(60)\n",
    "n5 = BTNode(70)\n",
    "n6 = BTNode(80)\n",
    "root.left = n1\n",
    "root.right = n2\n",
    "\n",
    "n1.left = n3\n",
    "n1.right = n4\n",
    "n4.right = n5\n",
    "n5.left = n6\n",
    "print(get_level(root,80))"
   ]
  },
  {
   "cell_type": "code",
   "execution_count": 742,
   "metadata": {},
   "outputs": [
    {
     "name": "stdout",
     "output_type": "stream",
     "text": [
      "0\n"
     ]
    }
   ],
   "source": [
    "def get_level(root,val,l = 0):\n",
    "  if root == None:\n",
    "    return\n",
    "  if root.elem == val :\n",
    "    return l \n",
    "  hi = get_level(root.left,val,l+1)\n",
    "  \n",
    "  if hi!= None :\n",
    "    return hi \n",
    "  else:\n",
    "    return get_level(root.right,val,l+1)\n",
    "root = BTNode(10)\n",
    "n1 = BTNode(20)\n",
    "n2 = BTNode(30)\n",
    "n3 = BTNode(40)\n",
    "n4 = BTNode(60)\n",
    "n5 = BTNode(70)\n",
    "n6 = BTNode(80)\n",
    "root.left = n1\n",
    "root.right = n2\n",
    "\n",
    "n1.left = n3\n",
    "n1.right = n4\n",
    "n4.right = n5\n",
    "n5.left = n6\n",
    "print(get_level(root,10))"
   ]
  },
  {
   "cell_type": "code",
   "execution_count": 743,
   "metadata": {},
   "outputs": [],
   "source": [
    "def f(root):\n",
    "  if root.left == None:\n",
    "    return  root.elem\n",
    "  return f(root.left)\n"
   ]
  },
  {
   "cell_type": "code",
   "execution_count": 744,
   "metadata": {},
   "outputs": [
    {
     "name": "stdout",
     "output_type": "stream",
     "text": [
      "None\n",
      "[None, 10, 20, 30, 40, 60, None, None, None, None, None, 70, None, None, None, None, None, None, None, None, None, None, 80, None, None, None, None, None, None, None, None, None, None, None, None, None, None, None, None, None, None, None, None, None, None, None, None, None, None, None, None, None, None, None, None, None, None, None, None, None, None, None, None, None, None, None, None, None, None, None, None, None, None, None, None, None, None, None, None, None, None, None, None, None, None, None, None, None, None, None, None, None, None, None, None, None, None, None, None, None, None, None, None, None, None, None, None, None, None, None, None, None, None, None, None, None, None, None, None, None, None, None, None, None, None, None, None, None, None, None, None, None, None, None, None, None, None, None, None, None, None, None, None, None, None, None, None, None, None, None, None, None, None, None, None, None, None, None, None, None, None, None, None, None, None, None, None, None, None, None, None, None, None, None, None, None, None, None, None, None, None, None, None, None, None, None, None, None, None, None, None, None, None, None, None, None, None, None, None, None]\n"
     ]
    }
   ],
   "source": [
    "def array_construct(root,arr,i=1):\n",
    "  if root == None:\n",
    "    return \n",
    "  \n",
    "  arr[i] = root.elem\n",
    "  array_construct(root.left,arr,2*i)\n",
    "  array_construct(root.right,arr,2*i+1)\n",
    "\n",
    "root = BTNode(10)\n",
    "n1 = BTNode(20)\n",
    "n2 = BTNode(30)\n",
    "n3 = BTNode(40)\n",
    "n4 = BTNode(60)\n",
    "n5 = BTNode(70)\n",
    "n6 = BTNode(80)\n",
    "root.left = n1\n",
    "root.right = n2\n",
    "\n",
    "n1.left = n3\n",
    "n1.right = n4\n",
    "n4.right = n5\n",
    "n5.left = n6\n",
    "arr = [None]*200\n",
    "print(array_construct(root,arr))\n",
    "print(arr)"
   ]
  },
  {
   "cell_type": "code",
   "execution_count": 745,
   "metadata": {},
   "outputs": [
    {
     "data": {
      "text/plain": [
       "2"
      ]
     },
     "execution_count": 745,
     "metadata": {},
     "output_type": "execute_result"
    }
   ],
   "source": [
    "def get_height(root):\n",
    "  if root == None:\n",
    "    return -1\n",
    "  # if root.left == None and root.right == None:\n",
    "  #   return 0\n",
    "  l = get_height(root.left)\n",
    "  r = get_height(root.right)\n",
    "  m = max(l,r)\n",
    "  return m+1\n",
    "root = BTNode(10)\n",
    "n1 = BTNode(20)\n",
    "n2 = BTNode(30)\n",
    "n3 = BTNode(40)\n",
    "n4 = BTNode(60)\n",
    "\n",
    "root.left = n1\n",
    "root.right = n2\n",
    "\n",
    "n1.left = n3\n",
    "n1.right = n4\n",
    "\n",
    "get_height(root)"
   ]
  },
  {
   "cell_type": "code",
   "execution_count": 746,
   "metadata": {},
   "outputs": [],
   "source": [
    "def get_sum(root):\n",
    "  if root == None:\n",
    "    return 0 \n",
    "  return root.elem + get_sum(root.left)+get_sum(root.right)"
   ]
  },
  {
   "cell_type": "code",
   "execution_count": null,
   "metadata": {},
   "outputs": [],
   "source": []
  },
  {
   "cell_type": "code",
   "execution_count": 747,
   "metadata": {},
   "outputs": [
    {
     "name": "stdout",
     "output_type": "stream",
     "text": [
      "Given Tree Inorder Traversal:  4 8 10 12 14 20 22 \n",
      "Inorder successor of node 10: 12\n"
     ]
    }
   ],
   "source": [
    "def in_s(root,node,successor=None):\n",
    "  if root == None:\n",
    "    return successor\n",
    "  if node.elem < root.elem :\n",
    "    return in_s(root.left,node,root)\n",
    "  if node.elem == root.elem:\n",
    "    return in_s(root.right, node, successor)\n",
    "  if node.elem > root.elem :\n",
    "    return in_s(root.right, node, successor)\n",
    "root = BTNode(20)\n",
    "n1 = BTNode(8)\n",
    "n2 = BTNode(22)\n",
    "n3 = BTNode(4)\n",
    "n4 = BTNode(12)\n",
    "n5 = BTNode(10)\n",
    "n6 = BTNode(14)\n",
    "\n",
    "root.left = n1\n",
    "root.right = n2\n",
    "\n",
    "n1.left = n3\n",
    "n1.right = n4\n",
    "\n",
    "n4.left = n5\n",
    "n4.right = n6\n",
    "\n",
    "print('Given Tree Inorder Traversal: ', end = ' ')\n",
    "inorder(root) #Given Tree Inorder Traversal:  4 8 10 12 14 20 22\n",
    "print()\n",
    "\n",
    "x = n5\n",
    "print(f'Inorder successor of node {x.elem}: {in_s(root, x).elem}') #Inorder successor of node 8: 10"
   ]
  },
  {
   "cell_type": "code",
   "execution_count": 748,
   "metadata": {},
   "outputs": [
    {
     "name": "stdout",
     "output_type": "stream",
     "text": [
      "Given Tree Inorder Traversal:  4 8 10 12 14 20 22 \n",
      "Inorder successor of node 8: 4\n"
     ]
    }
   ],
   "source": [
    "#inorder predecessor\n",
    "def in_p(root,node,successor=None):\n",
    "  if root == None:\n",
    "    return successor\n",
    "  if node.elem < root.elem :\n",
    "    return in_p(root.left,node,successor)\n",
    "  if node.elem == root.elem:\n",
    "    return in_p(root.left, node, successor)\n",
    "  if node.elem > root.elem :\n",
    "    return in_p(root.right, node, root)\n",
    "root = BTNode(20)\n",
    "n1 = BTNode(8)\n",
    "n2 = BTNode(22)\n",
    "n3 = BTNode(4)\n",
    "n4 = BTNode(12)\n",
    "n5 = BTNode(10)\n",
    "n6 = BTNode(14)\n",
    "\n",
    "root.left = n1\n",
    "root.right = n2\n",
    "\n",
    "n1.left = n3\n",
    "n1.right = n4\n",
    "\n",
    "n4.left = n5\n",
    "n4.right = n6\n",
    "\n",
    "print('Given Tree Inorder Traversal: ', end = ' ')\n",
    "inorder(root) #Given Tree Inorder Traversal:  4 8 10 12 14 20 22\n",
    "print()\n",
    "\n",
    "x = n1\n",
    "print(f'Inorder successor of node {x.elem}: {in_p(root, x).elem}') #Inorder successor of node 8: 10"
   ]
  },
  {
   "cell_type": "code",
   "execution_count": 749,
   "metadata": {},
   "outputs": [],
   "source": [
    "def closest_node(root,k):\n",
    "  if root == None :\n",
    "    return None\n",
    "  "
   ]
  },
  {
   "cell_type": "code",
   "execution_count": 750,
   "metadata": {},
   "outputs": [
    {
     "name": "stdout",
     "output_type": "stream",
     "text": [
      "Given Tree Inorder Traversal:  40 20 60 10 30 \n",
      "Mirrored Tree Inorder Traversal:  30 10 60 20 40 "
     ]
    }
   ],
   "source": [
    "#assignment 1\n",
    "def convert(root):\n",
    "  if root == None:\n",
    "    return None\n",
    "  root.left, root.right = convert(root.right),convert(root.left)\n",
    "  \n",
    "  return root\n",
    "root = BTNode(10)\n",
    "n1 = BTNode(20)\n",
    "n2 = BTNode(30)\n",
    "n3 = BTNode(40)\n",
    "n4 = BTNode(60)\n",
    "\n",
    "root.left = n1\n",
    "root.right = n2\n",
    "\n",
    "n1.left = n3\n",
    "n1.right = n4\n",
    "\n",
    "print('Given Tree Inorder Traversal: ', end = ' ')\n",
    "inorder(root) #Given Tree Inorder Traversal:  40 20 60 10 30\n",
    "print()\n",
    "\n",
    "root2 = convert(root)\n",
    "print('Mirrored Tree Inorder Traversal: ', end = ' ')\n",
    "inorder(root2) #Mirrored Tree Inorder Traversal:  30 10 60 20 40"
   ]
  },
  {
   "cell_type": "code",
   "execution_count": 751,
   "metadata": {},
   "outputs": [
    {
     "name": "stdout",
     "output_type": "stream",
     "text": [
      "22\n"
     ]
    }
   ],
   "source": [
    "#Quiz NZF solve \n",
    "def closest_node(root,k):\n",
    "  if root == None :\n",
    "    return None\n",
    "  closest = root\n",
    "  left = closest_node(root.left,k)\n",
    "\n",
    "  if left != None and abs(k-left.elem)<abs(k-root.elem):\n",
    "    closest = left \n",
    "  right = closest_node(root.right,k)\n",
    "  if right!= None and abs(k-right.elem) < abs(k-root.elem):\n",
    "    closest = right\n",
    "  return closest\n",
    "root = BTNode(20)\n",
    "n1 = BTNode(8)\n",
    "n2 = BTNode(22)\n",
    "n3 = BTNode(4)\n",
    "n4 = BTNode(12)\n",
    "n5 = BTNode(10)\n",
    "n6 = BTNode(14)\n",
    "\n",
    "root.left = n1\n",
    "root.right = n2\n",
    "\n",
    "n1.left = n3\n",
    "n1.right = n4\n",
    "\n",
    "n4.left = n5\n",
    "n4.right = n6\n",
    "\n",
    "print(closest_node(root,23).elem)"
   ]
  },
  {
   "cell_type": "code",
   "execution_count": 752,
   "metadata": {},
   "outputs": [
    {
     "name": "stdout",
     "output_type": "stream",
     "text": [
      "22\n"
     ]
    }
   ],
   "source": [
    "def c_n(root,k):\n",
    "  if root == None:\n",
    "    return 9999\n",
    "  left = c_n(root.left,k)\n",
    "  right = c_n(root.right,k)\n",
    "  d = abs(k-root.elem)\n",
    "  if min(d,abs(k-left.elem),abs(k-right.elem)) == d:\n",
    "    return root\n",
    "  return root\n",
    "\n",
    "print(closest_node(root,23).elem)"
   ]
  },
  {
   "cell_type": "code",
   "execution_count": 753,
   "metadata": {},
   "outputs": [],
   "source": [
    "def kth_smallest(root,k,i = 0):\n",
    "  if root == None:\n",
    "    return None\n",
    "  if root.left == None:\n",
    "\n",
    "    if i+1 == k:\n",
    "      return root\n",
    "    else:\n",
    "      return i+1\n",
    "  left = kth_smallest(root.left,k,i)\n",
    "  if type(left) != int and type(left) != None:\n",
    "    return left\n",
    "  else:\n",
    "    right = kth_smallest(root.right,k,i+1)\n",
    "kth_smallest(root,2)"
   ]
  },
  {
   "cell_type": "code",
   "execution_count": 754,
   "metadata": {},
   "outputs": [
    {
     "name": "stdout",
     "output_type": "stream",
     "text": [
      "True\n"
     ]
    }
   ],
   "source": [
    "def duplicate_checker(root, l =[]):\n",
    "  if root == None:\n",
    "    return False\n",
    "  if root.elem in l:\n",
    "    return True\n",
    "  else: \n",
    "    l.append(root.elem)\n",
    "  return duplicate_checker(root.left) or duplicate_checker(root.right)\n",
    "\n",
    "root = BTNode(20)\n",
    "n1 = BTNode(8)\n",
    "n2 = BTNode(22)\n",
    "n3 = BTNode(4)\n",
    "n4 = BTNode(12)\n",
    "n5 = BTNode(14)\n",
    "n6 = BTNode(14)\n",
    "\n",
    "root.left = n1\n",
    "root.right = n2\n",
    "\n",
    "n1.left = n3\n",
    "n1.right = n4\n",
    "\n",
    "n4.left = n5\n",
    "n4.right = n6\n",
    "\n",
    "print(duplicate_checker(root))"
   ]
  },
  {
   "cell_type": "code",
   "execution_count": 755,
   "metadata": {},
   "outputs": [
    {
     "data": {
      "text/plain": [
       "-18"
      ]
     },
     "execution_count": 755,
     "metadata": {},
     "output_type": "execute_result"
    }
   ],
   "source": [
    "def sum_diff(root,l = 0):\n",
    "  \n",
    "  if root == None :\n",
    "    return 0\n",
    "  if l%2 == 0 :\n",
    "    return root.elem+sum_diff(root.left,l+1)+sum_diff(root.right,l+1)\n",
    "  else:\n",
    "    return -root.elem+sum_diff(root.left,l+1)+sum_diff(root.right,l+1)\n",
    "root = BTNode(20)\n",
    "n1 = BTNode(8)\n",
    "n2 = BTNode(22)\n",
    "n3 = BTNode(4)\n",
    "n4 = BTNode(12)\n",
    "n5 = BTNode(10)\n",
    "n6 = BTNode(14)\n",
    "\n",
    "root.left = n1\n",
    "root.right = n2\n",
    "\n",
    "n1.left = n3\n",
    "n1.right = n4\n",
    "\n",
    "n4.left = n5\n",
    "n4.right = n6\n",
    "sum_diff(root)"
   ]
  },
  {
   "cell_type": "code",
   "execution_count": null,
   "metadata": {},
   "outputs": [],
   "source": []
  }
 ],
 "metadata": {
  "kernelspec": {
   "display_name": "base",
   "language": "python",
   "name": "python3"
  },
  "language_info": {
   "codemirror_mode": {
    "name": "ipython",
    "version": 3
   },
   "file_extension": ".py",
   "mimetype": "text/x-python",
   "name": "python",
   "nbconvert_exporter": "python",
   "pygments_lexer": "ipython3",
   "version": "3.9.7"
  },
  "orig_nbformat": 4
 },
 "nbformat": 4,
 "nbformat_minor": 2
}
